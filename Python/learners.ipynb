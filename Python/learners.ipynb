{
 "cells": [
  {
   "cell_type": "code",
   "execution_count": 2,
   "id": "71c1b473-336b-45be-980e-2853540fb218",
   "metadata": {},
   "outputs": [],
   "source": [
    "class Dog():\n",
    "\n",
    "    def __init__ (self, breed, color, name, spots):\n",
    "\n",
    "        self.breed = breed\n",
    "        self.color = color\n",
    "        self.name = name\n",
    "        self.spots = spots\n",
    "\n"
   ]
  },
  {
   "cell_type": "code",
   "execution_count": 4,
   "id": "37f1fd15-1633-46fd-8140-fa8da51135a3",
   "metadata": {},
   "outputs": [],
   "source": [
    "my_sample = Sample()"
   ]
  },
  {
   "cell_type": "code",
   "execution_count": 6,
   "id": "4010ebdf-9ce7-4fa2-8124-a6772985dd73",
   "metadata": {},
   "outputs": [
    {
     "data": {
      "text/plain": [
       "__main__.Sample"
      ]
     },
     "execution_count": 6,
     "metadata": {},
     "output_type": "execute_result"
    }
   ],
   "source": [
    "type(my_sample)"
   ]
  },
  {
   "cell_type": "code",
   "execution_count": 8,
   "id": "11e889ec-532b-41b5-a702-cce8d8eaa53a",
   "metadata": {},
   "outputs": [],
   "source": [
    "class Dog():\n",
    "\n",
    "    def __init__ (self, breed, color):\n",
    "\n",
    "        self.breed = breed\n",
    "        self.color = color"
   ]
  },
  {
   "cell_type": "code",
   "execution_count": 10,
   "id": "b6f44d65-be03-4e9b-9b0f-978f7a2dd867",
   "metadata": {},
   "outputs": [],
   "source": [
    "my_dog = Dog('caucasian', 'brown')"
   ]
  },
  {
   "cell_type": "code",
   "execution_count": 12,
   "id": "6168961d-602e-45c2-b6fd-1fb34ca2d2d3",
   "metadata": {},
   "outputs": [
    {
     "data": {
      "text/plain": [
       "__main__.Dog"
      ]
     },
     "execution_count": 12,
     "metadata": {},
     "output_type": "execute_result"
    }
   ],
   "source": [
    "type(my_dog)"
   ]
  },
  {
   "cell_type": "code",
   "execution_count": 14,
   "id": "0cf74b47-5c2c-40bf-ab57-b0f2179d3d5b",
   "metadata": {},
   "outputs": [
    {
     "data": {
      "text/plain": [
       "'caucasian'"
      ]
     },
     "execution_count": 14,
     "metadata": {},
     "output_type": "execute_result"
    }
   ],
   "source": [
    "my_dog.breed"
   ]
  },
  {
   "cell_type": "code",
   "execution_count": 16,
   "id": "4c154dc2-c699-4784-9c52-4e3f18b19f98",
   "metadata": {},
   "outputs": [
    {
     "data": {
      "text/plain": [
       "'brown'"
      ]
     },
     "execution_count": 16,
     "metadata": {},
     "output_type": "execute_result"
    }
   ],
   "source": [
    "my_dog.color"
   ]
  },
  {
   "cell_type": "code",
   "execution_count": 2,
   "id": "f141b170-d136-4664-8e82-9e5e358c02d3",
   "metadata": {},
   "outputs": [],
   "source": [
    "class Animal():\n",
    "\n",
    "    def __init__(self):\n",
    "        print('Animal Created')\n",
    "\n",
    "    def who_am_i(self):\n",
    "        print('I am an animal')\n",
    "\n",
    "    def eat(self):\n",
    "        print('I am eating')"
   ]
  },
  {
   "cell_type": "code",
   "execution_count": 36,
   "id": "8f47f605-51b5-407e-8fc3-0104e717eca3",
   "metadata": {},
   "outputs": [],
   "source": [
    "class Dogg(Animal):\n",
    "\n",
    "    def __init__(self):\n",
    "        Animal.__init__(self)\n",
    "        print('Dog Created')\n",
    "\n",
    "    def who_am_i(self):\n",
    "        print('I am a dog!')\n",
    "\n",
    "    def eat(self):\n",
    "        print('I am eating beans')\n",
    "\n",
    "    def bark(self):\n",
    "        print('WOOF!')"
   ]
  },
  {
   "cell_type": "code",
   "execution_count": 38,
   "id": "adb35ad4-2b38-4d1b-b1e9-c2fe6dde3a34",
   "metadata": {},
   "outputs": [
    {
     "name": "stdout",
     "output_type": "stream",
     "text": [
      "Animal Created\n",
      "Dog Created\n"
     ]
    }
   ],
   "source": [
    "mydog = Dogg()"
   ]
  },
  {
   "cell_type": "code",
   "execution_count": 40,
   "id": "91f3c525-1019-4a4f-abd5-80924cc98ea3",
   "metadata": {},
   "outputs": [
    {
     "name": "stdout",
     "output_type": "stream",
     "text": [
      "I am eating beans\n"
     ]
    }
   ],
   "source": [
    "mydog.eat()"
   ]
  },
  {
   "cell_type": "code",
   "execution_count": 42,
   "id": "8dd0513e-dbc0-46b6-8bb3-7c6fa8f1fcde",
   "metadata": {},
   "outputs": [
    {
     "name": "stdout",
     "output_type": "stream",
     "text": [
      "I am a dog!\n"
     ]
    }
   ],
   "source": [
    "mydog.who_am_i()"
   ]
  },
  {
   "cell_type": "code",
   "execution_count": 44,
   "id": "f403e520-64ad-4787-9dd2-d9eb209d2467",
   "metadata": {},
   "outputs": [
    {
     "name": "stdout",
     "output_type": "stream",
     "text": [
      "WOOF!\n"
     ]
    }
   ],
   "source": [
    "mydog.bark()"
   ]
  },
  {
   "cell_type": "markdown",
   "id": "5c803cea-d408-477d-9b4a-b98110fa45a1",
   "metadata": {},
   "source": [
    "#POLYMORPHISM "
   ]
  },
  {
   "cell_type": "code",
   "execution_count": 51,
   "id": "9efaf22b-5670-4483-95df-ad0cc92e383f",
   "metadata": {},
   "outputs": [],
   "source": [
    "class Dog():\n",
    "\n",
    "    def __init__(self, name):\n",
    "        self.name = name\n",
    "\n",
    "    def speak(self):\n",
    "        return self.name + 'says woof!'"
   ]
  },
  {
   "cell_type": "code",
   "execution_count": 49,
   "id": "f232085c-ea31-45f6-bdcc-58bacd55e910",
   "metadata": {},
   "outputs": [],
   "source": [
    "class Cat():\n",
    "\n",
    "    def __init__(self, name):\n",
    "        self.name = name\n",
    "\n",
    "    def speak(self):\n",
    "        return self.name + 'says meow!'"
   ]
  },
  {
   "cell_type": "code",
   "execution_count": 55,
   "id": "d4e56b10-ebab-4d8c-8e4e-1aaf3e458f53",
   "metadata": {},
   "outputs": [],
   "source": [
    "niko = Dog('niko')\n",
    "felix = Cat('felix')"
   ]
  },
  {
   "cell_type": "code",
   "execution_count": 57,
   "id": "16b226f7-e8c5-430e-8925-4080af872e00",
   "metadata": {},
   "outputs": [
    {
     "name": "stdout",
     "output_type": "stream",
     "text": [
      "nikosays woof!\n"
     ]
    }
   ],
   "source": [
    "print(niko.speak())"
   ]
  },
  {
   "cell_type": "code",
   "execution_count": 59,
   "id": "ded47873-1876-4917-b6b5-86bf0a9e4879",
   "metadata": {},
   "outputs": [
    {
     "name": "stdout",
     "output_type": "stream",
     "text": [
      "felixsays meow!\n"
     ]
    }
   ],
   "source": [
    "print(felix.speak())"
   ]
  },
  {
   "cell_type": "code",
   "execution_count": 61,
   "id": "ab864dd7-9daf-42c2-9182-49afce5ae3ac",
   "metadata": {},
   "outputs": [
    {
     "name": "stdout",
     "output_type": "stream",
     "text": [
      "<class '__main__.Dog'>\n",
      "nikosays woof!\n",
      "<class '__main__.Cat'>\n",
      "felixsays meow!\n"
     ]
    }
   ],
   "source": [
    "for pet in [niko, felix]:\n",
    "\n",
    "    print(type(pet))\n",
    "    print(pet.speak())"
   ]
  },
  {
   "cell_type": "code",
   "execution_count": 63,
   "id": "0c7a59df-91af-4322-a017-2172797f04fa",
   "metadata": {},
   "outputs": [],
   "source": [
    "def pet_speak(pet):\n",
    "    print(pet.speak())"
   ]
  },
  {
   "cell_type": "code",
   "execution_count": null,
   "id": "efe383a3-bc8f-4edc-9f71-b85c7a507c77",
   "metadata": {},
   "outputs": [],
   "source": []
  }
 ],
 "metadata": {
  "kernelspec": {
   "display_name": "Python 3 (ipykernel)",
   "language": "python",
   "name": "python3"
  },
  "language_info": {
   "codemirror_mode": {
    "name": "ipython",
    "version": 3
   },
   "file_extension": ".py",
   "mimetype": "text/x-python",
   "name": "python",
   "nbconvert_exporter": "python",
   "pygments_lexer": "ipython3",
   "version": "3.12.4"
  }
 },
 "nbformat": 4,
 "nbformat_minor": 5
}
